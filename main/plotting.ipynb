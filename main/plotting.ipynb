{
 "cells": [
  {
   "cell_type": "markdown",
   "metadata": {},
   "source": [
    "## Compute time differences with GMaps routing in no traffic & heavy traffic"
   ]
  },
  {
   "cell_type": "code",
   "execution_count": 60,
   "metadata": {},
   "outputs": [],
   "source": [
    "import csv\n",
    "\n",
    "import numpy as np\n",
    "import matplotlib\n",
    "import seaborn as sns\n",
    "\n",
    "import matplotlib.pyplot as plt\n",
    "import scipy.stats as stats\n",
    "\n",
    "import osmnx as ox\n",
    "\n",
    "%matplotlib inline"
   ]
  },
  {
   "cell_type": "code",
   "execution_count": 3,
   "metadata": {
    "collapsed": true
   },
   "outputs": [],
   "source": [
    "def read_csv(fname_fast, fname_traffic):\n",
    "    routes = { }\n",
    "    \n",
    "    # Read CSV of fastest routes (no traffic)\n",
    "    with open(fname_fast, 'r') as f_fast:\n",
    "        reader = csv.reader(f_fast)\n",
    "        header = next(reader)\n",
    "        \n",
    "        # Configure indices of columns we want\n",
    "        route_idx = header.index(\"ID\")\n",
    "        time_idx = header.index(\"total_time_in_sec\")\n",
    "        nhwdist_idx = header.index(\"pctNonHighwayDist\")\n",
    "        nhwtime_idx = header.index(\"pctNonHighwayTime\")\n",
    "        sndist_idx = header.index(\"pctNeiDist\")\n",
    "        sntime_idx = header.index(\"pctNeiTime\")\n",
    "\n",
    "        # Store metrics to dictionary with key routeID\n",
    "        for row in reader:\n",
    "            if not row: continue\n",
    "\n",
    "            route_id = row[route_idx]\n",
    "            routes[route_id] = {\n",
    "                'time_fast' : float(row[time_idx]),\n",
    "                'pctNonHighwayDist_fast' : float(row[nhwdist_idx]),\n",
    "                'pctNonHighwayTime_fast' : float(row[nhwtime_idx]),\n",
    "                'pctNeiDist_fast' : float(row[sndist_idx]),\n",
    "                'pctNeiTime_fast' : float(row[sntime_idx])\n",
    "            }\n",
    "    \n",
    "    # Read CSV of routes with traffic\n",
    "    with open(fname_traffic, 'r') as f_traffic:\n",
    "        reader = csv.reader(f_traffic)\n",
    "        header = next(reader)\n",
    "        \n",
    "        # Configure indices of columns we want\n",
    "        route_idx = header.index(\"ID\")\n",
    "        time_idx = header.index(\"total_time_in_sec\")\n",
    "        nhwdist_idx = header.index(\"pctNonHighwayDist\")\n",
    "        nhwtime_idx = header.index(\"pctNonHighwayTime\")\n",
    "        sndist_idx = header.index(\"pctNeiDist\")\n",
    "        sntime_idx = header.index(\"pctNeiTime\")\n",
    "\n",
    "        # Add new metrics to dictionary with key routeID\n",
    "        for row in reader:\n",
    "            if not row: continue\n",
    "\n",
    "            route_id = row[route_idx]\n",
    "            routes[route_id].update({\n",
    "                'time_traffic' : float(row[time_idx]),\n",
    "                'pctNonHighwayDist_traffic' : float(row[nhwdist_idx]),\n",
    "                'pctNonHighwayTime_traffic' : float(row[nhwtime_idx]),\n",
    "                'pctNeiDist_traffic' : float(row[sndist_idx]),\n",
    "                'pctNeiTime_traffic' : float(row[sntime_idx])\n",
    "            })\n",
    "    \n",
    "    return routes"
   ]
  },
  {
   "cell_type": "markdown",
   "metadata": {},
   "source": [
    "**Time Metrics for Google Maps**"
   ]
  },
  {
   "cell_type": "code",
   "execution_count": 4,
   "metadata": {
    "collapsed": true
   },
   "outputs": [],
   "source": [
    "f1FN = \"data/chicago_routes_gmaps_fastest_matched.csv\"\n",
    "f2FN = \"data/chicago_routes_gmaps_traffic_matched.csv\"\n",
    "routes_gmaps = read_csv(f1FN, f2FN)"
   ]
  },
  {
   "cell_type": "code",
   "execution_count": 5,
   "metadata": {},
   "outputs": [],
   "source": [
    "# Compute difference in % time spent period, on non-highways, and\n",
    "# on neighborhood streets from (traffic - default). \n",
    "differences_gmaps = { }\n",
    "for route_id in routes_gmaps:\n",
    "    try:\n",
    "        differences_gmaps[route_id] = {\n",
    "            'diff_time' : routes_gmaps[route_id]['time_traffic'] - routes_gmaps[route_id]['time_fast'],\n",
    "            'diff_pctNonHighwayTime' : routes_gmaps[route_id]['pctNonHighwayTime_traffic']\n",
    "                                       - routes_gmaps[route_id]['pctNonHighwayTime_fast'],\n",
    "            'diff_pctNeiTime' : routes_gmaps[route_id]['pctNeiTime_traffic']\n",
    "                                - routes_gmaps[route_id]['pctNeiTime_fast']\n",
    "        }\n",
    "    except KeyError:\n",
    "        continue"
   ]
  },
  {
   "cell_type": "code",
   "execution_count": 6,
   "metadata": {
    "collapsed": true
   },
   "outputs": [],
   "source": [
    "diffs_time_gmaps = [d['diff_time'] for d in differences_gmaps.values()]\n",
    "diffs_pctNeiTime_gmaps = [d['diff_pctNeiTime'] for d in differences_gmaps.values()]\n",
    "diffs_pctNonHighwayTime_gmaps = [d['diff_pctNonHighwayTime'] for d in differences_gmaps.values()]"
   ]
  },
  {
   "cell_type": "markdown",
   "metadata": {},
   "source": [
    "**Time Metrics for GraphHopper**"
   ]
  },
  {
   "cell_type": "code",
   "execution_count": 7,
   "metadata": {},
   "outputs": [],
   "source": [
    "f1FN = \"data/chicago_routes_gh_fastest.csv\"\n",
    "f2FN = \"data/chicago_routes_gh_traffic.csv\"\n",
    "routes_gh = read_csv(f1FN, f2FN)"
   ]
  },
  {
   "cell_type": "code",
   "execution_count": 8,
   "metadata": {},
   "outputs": [],
   "source": [
    "# Compute difference in % time spent period, on non-highways, and\n",
    "# on neighborhood streets from (traffic - default). \n",
    "differences_gh = { }\n",
    "for route_id in routes_gh:\n",
    "    try:\n",
    "        differences_gh[route_id] = {\n",
    "            'diff_time' : routes_gh[route_id]['time_traffic'] - routes_gh[route_id]['time_fast'],\n",
    "            'diff_pctNonHighwayTime' : routes_gh[route_id]['pctNonHighwayTime_traffic']\n",
    "                                       - routes_gh[route_id]['pctNonHighwayTime_fast'],\n",
    "            'diff_pctNeiTime' : routes_gh[route_id]['pctNeiTime_traffic']\n",
    "                                - routes_gh[route_id]['pctNeiTime_fast']\n",
    "        }\n",
    "    except KeyError:  # route wasn't processed for both metrics, skip it\n",
    "        continue"
   ]
  },
  {
   "cell_type": "code",
   "execution_count": 9,
   "metadata": {
    "collapsed": true
   },
   "outputs": [],
   "source": [
    "diffs_time_gh = [d['diff_time'] for d in differences_gh.values()]\n",
    "diffs_pctNeiTime_gh = [d['diff_pctNeiTime'] for d in differences_gh.values()]\n",
    "diffs_pctNonHighwayTime_gh = [d['diff_pctNonHighwayTime'] for d in differences_gh.values()]"
   ]
  },
  {
   "cell_type": "markdown",
   "metadata": {},
   "source": [
    "**Comparing Time Spent off Highways**"
   ]
  },
  {
   "cell_type": "code",
   "execution_count": 29,
   "metadata": {},
   "outputs": [
    {
     "data": {
      "text/plain": [
       "<matplotlib.text.Text at 0x1b9f1b374e0>"
      ]
     },
     "execution_count": 29,
     "metadata": {},
     "output_type": "execute_result"
    },
    {
     "data": {
      "image/png": "[encoded data removed]",
      "text/plain": [
       "<matplotlib.figure.Figure at 0x1b9f1931d68>"
      ]
     },
     "metadata": {},
     "output_type": "display_data"
    }
   ],
   "source": [
    "plt.hist([diffs_pctNonHighwayTime_gmaps, diffs_pctNonHighwayTime_gh],\n",
    "         bins = 20, color = ['g', 'b'], alpha = 0.5, width = 0.02,\n",
    "         label = ['Google Maps', 'GraphHopper'])\n",
    "plt.legend(loc='upper right')\n",
    "plt.title('Change in % Time Spent off Highways')\n",
    "plt.xlabel('Percent Difference (heavy traffic - baseline)')\n",
    "plt.ylabel('Number of Routes')"
   ]
  },
  {
   "cell_type": "code",
   "execution_count": 27,
   "metadata": {},
   "outputs": [
    {
     "data": {
      "text/plain": [
       "(-0.0018650000000000003,\n",
       " Ttest_1sampResult(statistic=-1.768946352867661, pvalue=0.077207913298854791))"
      ]
     },
     "execution_count": 27,
     "metadata": {},
     "output_type": "execute_result"
    }
   ],
   "source": [
    "np.mean(diffs_pctNonHighwayTime_gh), stats.ttest_1samp(diffs_pctNonHighwayTime_gh, 0)"
   ]
  },
  {
   "cell_type": "code",
   "execution_count": 26,
   "metadata": {},
   "outputs": [
    {
     "data": {
      "text/plain": [
       "(0.012376376376376378,\n",
       " Ttest_1sampResult(statistic=5.5799740364762984, pvalue=3.0982973468031511e-08))"
      ]
     },
     "execution_count": 26,
     "metadata": {},
     "output_type": "execute_result"
    }
   ],
   "source": [
    "np.mean(diffs_pctNonHighwayTime_gmaps), stats.ttest_1samp(diffs_pctNonHighwayTime_gmaps, 0)"
   ]
  },
  {
   "cell_type": "code",
   "execution_count": 11,
   "metadata": {},
   "outputs": [
    {
     "data": {
      "text/plain": [
       "Ttest_indResult(statistic=-5.8008554812664892, pvalue=7.6534888399134442e-09)"
      ]
     },
     "execution_count": 11,
     "metadata": {},
     "output_type": "execute_result"
    }
   ],
   "source": [
    "stats.ttest_ind(diffs_pctNonHighwayTime_gh, diffs_pctNonHighwayTime_gmaps)"
   ]
  },
  {
   "cell_type": "markdown",
   "metadata": {},
   "source": [
    "We see that while Google Maps is more likely to direct people off highways in heavy traffic (t = 5.8), this does not seem to be a significant effect in GraphHopper traffic routing (t = 1.8). The two are noticeably different from each other, however (t = -5.8)."
   ]
  },
  {
   "cell_type": "markdown",
   "metadata": {},
   "source": [
    "**Comparing Time Spent on Neighborhood Roads**"
   ]
  },
  {
   "cell_type": "code",
   "execution_count": 62,
   "metadata": {},
   "outputs": [
    {
     "data": {
      "text/plain": [
       "<matplotlib.text.Text at 0x1b996707128>"
      ]
     },
     "execution_count": 62,
     "metadata": {},
     "output_type": "execute_result"
    },
    {
     "data": {
      "image/png": "[encoded data removed]",
      "text/plain": [
       "<matplotlib.figure.Figure at 0x1b996776080>"
      ]
     },
     "metadata": {},
     "output_type": "display_data"
    }
   ],
   "source": [
    "plt.hist([diffs_pctNeiTime_gmaps, diffs_pctNeiTime_gh],\n",
    "         bins = 20, color = ['g', 'b'], alpha = 0.5, width = 0.02,\n",
    "         label = ['Google Maps', 'GraphHopper'])\n",
    "plt.legend(loc='upper right')\n",
    "plt.title('Change in % Time Spent on Neighborhood Roads')\n",
    "plt.xlabel('Percent Difference (heavy traffic - baseline)')\n",
    "plt.ylabel('Number of Routes')"
   ]
  },
  {
   "cell_type": "code",
   "execution_count": 30,
   "metadata": {},
   "outputs": [
    {
     "data": {
      "text/plain": [
       "(0.018533999999999998,\n",
       " Ttest_1sampResult(statistic=16.077655648988266, pvalue=6.6709334647266976e-52))"
      ]
     },
     "execution_count": 30,
     "metadata": {},
     "output_type": "execute_result"
    }
   ],
   "source": [
    "np.mean(diffs_pctNeiTime_gh), stats.ttest_1samp(diffs_pctNeiTime_gh, 0)"
   ]
  },
  {
   "cell_type": "code",
   "execution_count": 31,
   "metadata": {},
   "outputs": [
    {
     "data": {
      "text/plain": [
       "(0.016062062062062062,\n",
       " Ttest_1sampResult(statistic=6.1547007118584087, pvalue=1.0879160742265571e-09))"
      ]
     },
     "execution_count": 31,
     "metadata": {},
     "output_type": "execute_result"
    }
   ],
   "source": [
    "np.mean(diffs_pctNeiTime_gmaps), stats.ttest_1samp(diffs_pctNeiTime_gmaps, 0)"
   ]
  },
  {
   "cell_type": "code",
   "execution_count": 12,
   "metadata": {},
   "outputs": [
    {
     "data": {
      "text/plain": [
       "Ttest_indResult(statistic=0.86672950620750711, pvalue=0.38619435887573572)"
      ]
     },
     "execution_count": 12,
     "metadata": {},
     "output_type": "execute_result"
    }
   ],
   "source": [
    "stats.ttest_ind(diffs_pctNeiTime_gh, diffs_pctNeiTime_gmaps)"
   ]
  },
  {
   "cell_type": "markdown",
   "metadata": {},
   "source": [
    "This gives support to the original result that alternative routing schemes may result in increased neighborhood traffic. We observe this in both Google Maps and GraphHopper (t = 16.1 in GraphHopper and t = 6.15 in Google Maps). The two are not significantly different from each other."
   ]
  },
  {
   "cell_type": "markdown",
   "metadata": {},
   "source": [
    "# Street Level Differences"
   ]
  },
  {
   "cell_type": "code",
   "execution_count": 63,
   "metadata": {},
   "outputs": [
    {
     "ename": "KeyboardInterrupt",
     "evalue": "",
     "output_type": "error",
     "traceback": [
      "\u001b[1;31m---------------------------------------------------------------------------\u001b[0m",
      "\u001b[1;31mKeyboardInterrupt\u001b[0m                         Traceback (most recent call last)",
      "\u001b[1;32m<ipython-input-63-814f929da6c7>\u001b[0m in \u001b[0;36m<module>\u001b[1;34m()\u001b[0m\n\u001b[1;32m----> 1\u001b[1;33m \u001b[0mox\u001b[0m\u001b[1;33m.\u001b[0m\u001b[0mgraph_from_bbox\u001b[0m\u001b[1;33m(\u001b[0m\u001b[0mnorth\u001b[0m \u001b[1;33m=\u001b[0m \u001b[1;36m41.6445431223\u001b[0m\u001b[1;33m,\u001b[0m \u001b[0msouth\u001b[0m \u001b[1;33m=\u001b[0m \u001b[1;36m42.023039\u001b[0m\u001b[1;33m,\u001b[0m \u001b[0meast\u001b[0m \u001b[1;33m=\u001b[0m \u001b[1;33m-\u001b[0m\u001b[1;36m87.5241371039\u001b[0m\u001b[1;33m,\u001b[0m \u001b[0mwest\u001b[0m\u001b[1;33m=\u001b[0m \u001b[1;33m-\u001b[0m\u001b[1;36m87.940114\u001b[0m\u001b[1;33m)\u001b[0m\u001b[1;33m\u001b[0m\u001b[0m\n\u001b[0m",
      "\u001b[1;32m~\\Miniconda3\\envs\\shuffle\\lib\\site-packages\\osmnx\\core.py\u001b[0m in \u001b[0;36mgraph_from_bbox\u001b[1;34m(north, south, east, west, network_type, simplify, retain_all, truncate_by_edge, name, timeout, memory, max_query_area_size, clean_periphery, infrastructure)\u001b[0m\n\u001b[0;32m   1428\u001b[0m                                           infrastructure=infrastructure)\n\u001b[0;32m   1429\u001b[0m         \u001b[0mG_buffered\u001b[0m \u001b[1;33m=\u001b[0m \u001b[0mcreate_graph\u001b[0m\u001b[1;33m(\u001b[0m\u001b[0mresponse_jsons\u001b[0m\u001b[1;33m,\u001b[0m \u001b[0mname\u001b[0m\u001b[1;33m=\u001b[0m\u001b[0mname\u001b[0m\u001b[1;33m,\u001b[0m \u001b[0mretain_all\u001b[0m\u001b[1;33m=\u001b[0m\u001b[0mretain_all\u001b[0m\u001b[1;33m,\u001b[0m \u001b[0mnetwork_type\u001b[0m\u001b[1;33m=\u001b[0m\u001b[0mnetwork_type\u001b[0m\u001b[1;33m)\u001b[0m\u001b[1;33m\u001b[0m\u001b[0m\n\u001b[1;32m-> 1430\u001b[1;33m         \u001b[0mG\u001b[0m \u001b[1;33m=\u001b[0m \u001b[0mtruncate_graph_bbox\u001b[0m\u001b[1;33m(\u001b[0m\u001b[0mG_buffered\u001b[0m\u001b[1;33m,\u001b[0m \u001b[0mnorth\u001b[0m\u001b[1;33m,\u001b[0m \u001b[0msouth\u001b[0m\u001b[1;33m,\u001b[0m \u001b[0meast\u001b[0m\u001b[1;33m,\u001b[0m \u001b[0mwest\u001b[0m\u001b[1;33m,\u001b[0m \u001b[0mretain_all\u001b[0m\u001b[1;33m=\u001b[0m\u001b[1;32mTrue\u001b[0m\u001b[1;33m,\u001b[0m \u001b[0mtruncate_by_edge\u001b[0m\u001b[1;33m=\u001b[0m\u001b[0mtruncate_by_edge\u001b[0m\u001b[1;33m)\u001b[0m\u001b[1;33m\u001b[0m\u001b[0m\n\u001b[0m\u001b[0;32m   1431\u001b[0m \u001b[1;33m\u001b[0m\u001b[0m\n\u001b[0;32m   1432\u001b[0m         \u001b[1;31m# simplify the graph topology\u001b[0m\u001b[1;33m\u001b[0m\u001b[1;33m\u001b[0m\u001b[0m\n",
      "\u001b[1;31mKeyboardInterrupt\u001b[0m: "
     ]
    }
   ],
   "source": [
    "ox.graph_from_bbox(north = 41.6445431223, south = 42.023039, east = -87.5241371039, west= -87.940114)\n"
   ]
  }
 ],
 "metadata": {
  "kernelspec": {
   "display_name": "Python 3",
   "language": "python",
   "name": "python3"
  },
  "language_info": {
   "codemirror_mode": {
    "name": "ipython",
    "version": 3
   },
   "file_extension": ".py",
   "mimetype": "text/x-python",
   "name": "python",
   "nbconvert_exporter": "python",
   "pygments_lexer": "ipython3",
   "version": "3.5.3"
  }
 },
 "nbformat": 4,
 "nbformat_minor": 2
}
